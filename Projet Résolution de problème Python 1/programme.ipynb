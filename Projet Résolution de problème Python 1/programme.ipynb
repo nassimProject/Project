{
 "cells": [
  {
   "cell_type": "markdown",
   "metadata": {},
   "source": [
    "<h1>Tharindu Perera <br>Nassim Blilik</h1>"
   ]
  },
  {
   "cell_type": "markdown",
   "metadata": {},
   "source": [
    "<h2> Groupe : Tlaloc </h2>"
   ]
  },
  {
   "cell_type": "markdown",
   "metadata": {
    "deletable": false,
    "editable": false,
    "run_control": {
     "frozen": true
    }
   },
   "source": [
    "# <center> Etude de communautés dans un réseau social</center>\n",
    "<center> SAE 1.01 / 2022 - 23 </center>\n",
    "\n"
   ]
  },
  {
   "cell_type": "markdown",
   "metadata": {
    "deletable": false,
    "editable": false,
    "run_control": {
     "frozen": true
    }
   },
   "source": [
    "Cette SAE est à faire en **binôme**.\n",
    "\n",
    "**Calendrier**\n",
    "- Un contrôle de 2h en lien avec le contenu de cette SAE aura lieu le mercredi **26 octobre** 2022.\n",
    "- Le projet est à rendre le vendredi **28 octobre** 2022. Les modalités de rendu vous seront précisées par votre enseignant.\n",
    "\n",
    "**Evaluation**\n",
    "- Le projet comptera pour 40% de la note de SAE 1.01. <BR>\n",
    "    Il sera particulièrement tenu compte de la qualité du code, des **commentaires** et **docstrings**, des fonctions de **tests unitaires** pour les fonctions renvoyant des résultats. <BR><BR>\n",
    "    \n",
    "- Le contrôle compte pour 60% de la note finale."
   ]
  },
  {
   "cell_type": "markdown",
   "metadata": {
    "deletable": false,
    "editable": false,
    "run_control": {
     "frozen": true
    }
   },
   "source": [
    "## <center> Sujet </center>\n",
    "\n",
    "Une *communauté* est un ensemble de personnes développant des interactions dans un réseau social.\n",
    "\n",
    "Dans ce projet, on étudie des communautés modélisées sous différentes formes. Pour cela, on développe des fonctions permettant d'extraire des informations relatives à ces réseaux. "
   ]
  },
  {
   "cell_type": "markdown",
   "metadata": {
    "deletable": false,
    "editable": false,
    "run_control": {
     "frozen": true
    }
   },
   "source": [
    "On modélise, dans un premier temps, les interactions entre personnes dans un tableau `amis` de chaînes de caractères contenant les prénoms des membres du réseau et tel que `amis[2*i]` a des interactions avec `amis[2*i+1]`.\n",
    "\n",
    "On suppose que chaque interaction n'est décrite qu'une seule fois dans le tableau, et qu'une personne n'a pas d'interaction avec elle-même.\n",
    "\n",
    "**Exemple** : "
   ]
  },
  {
   "cell_type": "code",
   "execution_count": 3,
   "metadata": {
    "deletable": false,
    "editable": false
   },
   "outputs": [],
   "source": [
    "amis = [\"Alice\", \"Bob\", \"Alice\", \"Charlie\", \"Bob\", \"Denis\"]"
   ]
  },
  {
   "cell_type": "markdown",
   "metadata": {
    "deletable": false,
    "editable": false,
    "run_control": {
     "frozen": true
    }
   },
   "source": [
    "Ici, \n",
    "- Alice a des interactions Bob et Charlie, \n",
    "- Bob a des intractions avec Alice et Denis,\n",
    "- Charlie a des interactions avec Alice et\n",
    "- Denis a des interactions avec Bob."
   ]
  },
  {
   "cell_type": "markdown",
   "metadata": {
    "deletable": false,
    "editable": false,
    "run_control": {
     "frozen": true
    }
   },
   "source": [
    "#### Question préliminaire : Modélisation d'un réseau par un tableau\n",
    "\n",
    "Muriel, Yasmine et Joël sont amis. Yasmine est amie avec Thomas. \n",
    "Joël, Nassim, Andrea et Ali sont amis. Thomas est ami de Daria et Carole. Thierry, Axel et Léo sont amis. Léo est ami de Valentin qui est ami d'Andrea.\n",
    "\n",
    "- Construire un tableau `p_amis` qui modélise ce réseau d'amitié en selon le principe qui vient d'être décrit."
   ]
  },
  {
   "cell_type": "code",
   "execution_count": 4,
   "metadata": {},
   "outputs": [],
   "source": [
    "p_amis=['Joel','Yasmine','Joel', 'Muriel' ,'Yasmine','Muriel' ,\n",
    "        'Yasmine' , 'Thomas',\n",
    "        'Thomas' , 'Daria' ,'Thomas', 'Carole',\n",
    "        'Joel', 'Nassim', 'Nassim','Andrea','Andrea','Ali',\n",
    "        'Joel', 'Ali','Joel','Andrea','Nassim','Ali',\n",
    "        'Valentin', 'Andrea',\n",
    "        'Leo', 'Valentin',\n",
    "        'Thierry', 'Axel','Leo','Axel',\n",
    "        'Thierry', 'Leo']\n",
    "\n",
    "q_amis=[\"Nassim\",'Tharindu','Issa','William','Issa','Nassim']"
   ]
  },
  {
   "cell_type": "markdown",
   "metadata": {
    "deletable": false,
    "editable": false,
    "run_control": {
     "frozen": true
    }
   },
   "source": [
    "#### Question 1 : Nombre d'amis d'une personne\n",
    "\n",
    "- Étant donné un tableau `amis`, écrire une fonction `nb_amis(amis, prenom)` qui retourne le nombre d'amis de `prenom` à partir des données du tableau `amis`. "
   ]
  },
  {
   "cell_type": "code",
   "execution_count": 5,
   "metadata": {},
   "outputs": [
    {
     "name": "stdout",
     "output_type": "stream",
     "text": [
      "test de la fonction nb_amis : Ok\n"
     ]
    }
   ],
   "source": [
    "def nb_amis(amis,prenom):\n",
    "    '''\n",
    "    La fonction nb_amis prends en paramètre un tableau d'amis et une chaîne de caractère qui sera le nom \n",
    "    de la personne rechercher. La fonction nous retournera le nombre d'amis du nom de la personne placé en paramètre.\n",
    "    '''\n",
    "    i=0\n",
    "    nb=0\n",
    "    while i < len(amis):\n",
    "        if amis[i] == prenom : #Si amis de i est égal au prénom recherché,il ajoutera +1 à nb car la personne à côté est son ami\n",
    "            nb+=1\n",
    "        i+=1\n",
    "    return nb\n",
    "\n",
    "\n",
    "def test_nb_amis():\n",
    "    assert nb_amis(p_amis,'Joel') == 5\n",
    "    assert nb_amis(amis,'Alice') == 2\n",
    "    assert nb_amis(q_amis,'Issa') == 2\n",
    "    print(\"test de la fonction nb_amis : Ok\")\n",
    "test_nb_amis()\n"
   ]
  },
  {
   "cell_type": "markdown",
   "metadata": {
    "deletable": false,
    "editable": false,
    "run_control": {
     "frozen": true
    }
   },
   "source": [
    "#### Question 2 : Nombre de membres d'un réseau social \n",
    "\n",
    "- Ecrire une fonction `taille_reseau(amis)` qui à partir d'un tableau `amis`retourne le nombre de personnes distinctes participant à ce réseau social."
   ]
  },
  {
   "cell_type": "code",
   "execution_count": 6,
   "metadata": {},
   "outputs": [
    {
     "name": "stdout",
     "output_type": "stream",
     "text": [
      "test de la fonction taille_reseau : Ok\n"
     ]
    }
   ],
   "source": [
    "def taille_reseau(amis):\n",
    "        '''\n",
    "        La fonction taille reseau prenant en paramètre un tableau, nous renverras le nombre de personnes différentes\n",
    "        qu'il y a dans le tableau\n",
    "        '''\n",
    "        tab=[]\n",
    "        i=0\n",
    "        while i<len(amis):\n",
    "            if amis[i] not in tab:  #si amis de i est n'est pas dans le tableau,il y sera ajouté. Donc si il y est déjà non\n",
    "                tab.append(amis[i])\n",
    "            i+=1\n",
    "        return len(tab) #Il va return la taille du tableau précédemment cité pour montrer le nombre distinct de personnes\n",
    "\n",
    "def test_nb_amis():\n",
    "    assert taille_reseau(amis) == 4\n",
    "    assert taille_reseau(p_amis)== 13\n",
    "    assert taille_reseau(q_amis) == 4\n",
    "    print(\"test de la fonction taille_reseau : Ok\")\n",
    "test_nb_amis()\n"
   ]
  },
  {
   "cell_type": "markdown",
   "metadata": {
    "deletable": false,
    "editable": false,
    "run_control": {
     "frozen": true
    }
   },
   "source": [
    "#### Question 3 :  Lecture des données d'un réseau à partir d'un fichier\n",
    "On suppose que les données sur un réseau social sont stockées dans un fichier CSV de la manière suivante :\n",
    "```\n",
    "prenom1;prenom2\n",
    "prenom3;prenom4\n",
    "prenom5;prenom6\n",
    "...\n",
    "```\n",
    "Autrement dit, chaque ligne du fichier contient une paire de prénoms séparés par un `';'` correspondant à deux personnes ayant des interactions. \n",
    "\n",
    "**NB** : Quatre fichiers CSV de ce type sont fournis dans le répertoire `files/`, il s'agit des fichiers`Communaute1.csv`, `Communaute2.csv`,`Communaute3.csv` et `Communaute4.csv`. \n",
    "Il est recommandé d'en fabriquer d'autres. \n",
    "\n",
    "- Ecrire une fonction `lecture_reseau(path)` prenant en paramètre un chemin vers un tel fichier CSV et retournant un tableau modélisant les interactions entre les personnes du fichier."
   ]
  },
  {
   "cell_type": "code",
   "execution_count": 7,
   "metadata": {
    "scrolled": false
   },
   "outputs": [
    {
     "name": "stdout",
     "output_type": "stream",
     "text": [
      "test de la fonction taille_reseau : Ok\n",
      "['Barbra', 'Cloe', 'Louis', 'Rufino', 'Idelle', 'Mady', 'Björn', 'Giedrius', 'Cloe', 'Glenys', 'Barbra', 'Vittorio', 'Mady', 'Rufino', 'Barbra', 'Marwa', 'Cloe', 'Louis', 'Björn', 'Faizel', 'Giedrius', 'Rufino', 'Mady', 'Vittore', 'Giedrius', 'Louis', 'Cloe', 'Placide', 'Cloe', 'Teodor', 'Kirsa', 'Vittorio', 'Idelle', 'Marwa', 'Placide', 'Rufino', 'Giedrius', 'Illtyd', 'Björn', 'Cloe', 'Björn', 'Rufino', 'Louis', 'Placide', 'Barbra', 'Rufino', 'Louis', 'Vittorio', 'Olavi', 'Placide', 'Rufino', 'Teodor', 'Louis', 'Olavi', 'Faizel', 'Rufino', 'Olavi', 'Vittorio', 'Barbra', 'Louis', 'Placide', 'Vittorio', 'Barbra', 'Kirsa', 'Illtyd', 'Rufino', 'Jakob', 'Mady', 'Barbra', 'Vittore', 'Björn', 'Idelle', 'Cloe', 'Vittore', 'Olavi', 'Teodor', 'Jakob', 'Placide', 'Cain', 'Vittorio', 'Barbra', 'Faizel', 'Giedrius', 'Mady', 'Kirsa', 'Vittore', 'Barbra', 'Mady', 'Jakob', 'Kirsa', 'Björn', 'Mady', 'Björn', 'Teodor', 'Cloe', 'Vittorio', 'Illtyd', 'Olavi', 'Olavi', 'Rufino', 'Giedrius', 'Glenys', 'Rufino', 'Vittorio', 'Björn', 'Olavi', 'Björn', 'Louis', 'Louis', 'Vittore', 'Mady', 'Teodor', 'Vittore', 'Vittorio', 'Faizel', 'Placide', 'Cloe', 'Mady', 'Cain', 'Placide', 'Mady', 'Vittorio', 'Cloe', 'Idelle', 'Mady', 'Placide', 'Giedrius', 'Vittorio', 'Faizel', 'Olavi', 'Björn', 'Vittore', 'Idelle', 'Illtyd', 'Barbra', 'Olavi']\n"
     ]
    }
   ],
   "source": [
    "def lecture_reseau(path):\n",
    "    '''\n",
    "    La fonction lecture_reseau prends un paramètre un chemin vers un fichier csv qui contient des données sur un \n",
    "    réseau social. Il va ensuite le lire et placer tout les noms qui y sont contenus dans un tableau pour ensuite le\n",
    "    retourner\n",
    "    '''\n",
    "    f=open(path,'r')\n",
    "    li=f.readline() #cette partie sert à ouvrir et lire le fichier avec le chemin contenu en paramètre de la fonction\n",
    "    i=0\n",
    "    tab=[]\n",
    "    tab2=[]\n",
    "    while (\"\"!= li): #tant que li ne sera pas vide, donc il va s'arrêter qu'à la fin du fichier\n",
    "        li=li.strip() #supprime les espaces inutiles en début et fin\n",
    "        tab.append(li.split(';'))#ajoute dans un tableau la ligne une fois qu'elle a été séparé par le split\n",
    "        while i < 2 :\n",
    "            tab2.append(tab[0][i])#ajoute dans un second tableau les noms contenu dans le tab\n",
    "            i+= 1\n",
    "            \n",
    "        tab = [] #vide la tableau pour le réutiliser ensuite\n",
    "        i=0\n",
    "        li=f.readline()#lecture de la ligne suivante\n",
    "        \n",
    "    f.close()\n",
    "    return tab2\n",
    "\n",
    "def test_lecture_reseau():\n",
    "    assert lecture_reseau(\"newfiles/Communaute1.csv\") \n",
    "    assert lecture_reseau(\"newfiles/Communaute2.csv\")\n",
    "    assert lecture_reseau(\"newfiles/Communaute3.csv\")\n",
    "    print(\"test de la fonction taille_reseau : Ok\")\n",
    "\n",
    "    \n",
    "test_lecture_reseau()\n",
    "print(lecture_reseau('newfiles/Communaute1.csv'))"
   ]
  },
  {
   "cell_type": "markdown",
   "metadata": {
    "deletable": false,
    "editable": false,
    "run_control": {
     "frozen": true
    }
   },
   "source": [
    "#### Question 4 : Modélisation d'un réseau par un dictionnaire\n",
    "On préfère pour la suite, utiliser une modélisation du réseau social par un dictionnaire dont où les clés sont les prénoms des personnes du réseau et la valeur associé à une clé est le tableau des amis de la personne indiquée par la clé.\n",
    "\n",
    "- A partir d'un tableau `amis` modélisant les interactions entre personnes d'un réseau, écrire une fonction `dico_reseau(amis)` qui retourne un dictionnaire dont les clés sont les prénoms des membres du réseau et les valeurs le tableau de leurs amis."
   ]
  },
  {
   "cell_type": "code",
   "execution_count": 8,
   "metadata": {},
   "outputs": [
    {
     "name": "stdout",
     "output_type": "stream",
     "text": [
      "test de la fonction taille_reseau : Ok\n",
      "{'Barbra': ['Cloe', 'Vittorio', 'Marwa', 'Rufino', 'Louis', 'Kirsa', 'Vittore', 'Faizel', 'Mady', 'Olavi'], 'Louis': ['Rufino', 'Placide', 'Vittorio', 'Olavi', 'Vittore', 'Björn', 'Barbra', 'Giedrius', 'Cloe'], 'Idelle': ['Mady', 'Marwa', 'Illtyd', 'Cloe', 'Björn'], 'Björn': ['Giedrius', 'Faizel', 'Cloe', 'Rufino', 'Idelle', 'Mady', 'Teodor', 'Olavi', 'Louis', 'Vittore'], 'Cloe': ['Glenys', 'Louis', 'Placide', 'Teodor', 'Vittore', 'Vittorio', 'Mady', 'Idelle', 'Björn', 'Barbra'], 'Mady': ['Rufino', 'Vittore', 'Teodor', 'Vittorio', 'Placide', 'Cloe', 'Björn', 'Barbra', 'Giedrius', 'Jakob', 'Idelle'], 'Giedrius': ['Rufino', 'Louis', 'Illtyd', 'Mady', 'Glenys', 'Vittorio', 'Björn'], 'Kirsa': ['Vittorio', 'Vittore', 'Jakob', 'Barbra'], 'Placide': ['Rufino', 'Vittorio', 'Mady', 'Cain', 'Faizel', 'Jakob', 'Olavi', 'Louis', 'Cloe'], 'Olavi': ['Placide', 'Vittorio', 'Teodor', 'Rufino', 'Barbra', 'Faizel', 'Björn', 'Illtyd', 'Louis'], 'Rufino': ['Teodor', 'Vittorio', 'Olavi', 'Illtyd', 'Faizel', 'Barbra', 'Björn', 'Placide', 'Giedrius', 'Mady', 'Louis'], 'Faizel': ['Rufino', 'Placide', 'Olavi', 'Barbra', 'Björn'], 'Illtyd': ['Rufino', 'Olavi', 'Idelle', 'Giedrius'], 'Jakob': ['Mady', 'Placide', 'Kirsa'], 'Cain': ['Vittorio', 'Placide'], 'Vittore': ['Vittorio', 'Björn', 'Louis', 'Kirsa', 'Cloe', 'Barbra', 'Mady'], 'Vittorio': ['Giedrius', 'Mady', 'Vittore', 'Rufino', 'Cloe', 'Cain', 'Placide', 'Olavi', 'Louis', 'Kirsa', 'Barbra'], 'Teodor': ['Mady', 'Björn', 'Olavi', 'Rufino', 'Cloe'], 'Glenys': ['Giedrius', 'Cloe'], 'Marwa': ['Idelle', 'Barbra']}\n"
     ]
    }
   ],
   "source": [
    "def dico_reseau(amis):\n",
    "    '''\n",
    "    La fonction dico_reseau prends en paramètre un réseau d'amis. Cette fonction va créer un dictionnaire contenant\n",
    "    en clé le nom des personnes de ce réseau et les valeurs seront un tableau qu'il va créer contenant tout les amis\n",
    "    de la personne en clé\n",
    "    '''\n",
    "    \n",
    "    i = 0\n",
    "    dic={}\n",
    "    while i < len(amis) :\n",
    "            if amis[i] not in list(dic) :#Si amis de i n'est pas une clé du dico,il va l'ajouter dedans avec son i+1\n",
    "                                        #qui estson ami\n",
    "                dic[amis[i]] = [amis[i+1]]\n",
    "            else: #Si celui ci est déjà une clé,il va ajouter son i+1 dans les valeurs de la clé\n",
    "                dic[amis[i]].append(amis[i+1])\n",
    "            i+=2\n",
    "    i=0\n",
    "    i=len(amis)-1\n",
    "    while i >= 0 :\n",
    "        if amis[i] not in list(dic) : #Si amis de i n'est pas une clé du dico,il va l'ajouter dedans avec son i+1\n",
    "            dic[amis[i]] = [amis[i-1]] #qui est son ami\n",
    "        else:\n",
    "            dic[amis[i]].append(amis[i-1])\n",
    "        i = i-2\n",
    "    i=0\n",
    "    return(dic)\n",
    "\n",
    "def test_dico_reseau():\n",
    "    assert dico_reseau(amis) == {'Alice': ['Bob', 'Charlie'], 'Bob': ['Denis', 'Alice'], 'Denis': ['Bob'], 'Charlie': ['Alice']}\n",
    "    assert dico_reseau(p_amis)== {'Joel': ['Yasmine', 'Muriel', 'Nassim', 'Ali', 'Andrea'], 'Yasmine': ['Muriel', 'Thomas', 'Joel'], 'Thomas': ['Daria', 'Carole', 'Yasmine'], 'Nassim': ['Andrea', 'Ali', 'Joel'], 'Andrea': ['Ali', 'Valentin', 'Joel', 'Nassim'], 'Valentin': ['Andrea', 'Leo'], 'Leo': ['Valentin', 'Axel', 'Thierry'], 'Thierry': ['Axel', 'Leo'], 'Axel': ['Leo', 'Thierry'], 'Ali': ['Nassim', 'Joel', 'Andrea'], 'Carole': ['Thomas'], 'Daria': ['Thomas'], 'Muriel': ['Yasmine', 'Joel']}\n",
    "    assert dico_reseau(q_amis) == {'Nassim': ['Tharindu', 'Issa'], 'Issa': ['William', 'Nassim'], 'William': ['Issa'], 'Tharindu': ['Nassim']}\n",
    "    print(\"test de la fonction taille_reseau : Ok\")\n",
    "\n",
    "    \n",
    "dico = lecture_reseau('newfiles/Communaute1.csv')\n",
    "test_dico_reseau()\n",
    "print(dico_reseau(dico))"
   ]
  },
  {
   "cell_type": "markdown",
   "metadata": {
    "deletable": false,
    "editable": false,
    "run_control": {
     "frozen": true
    }
   },
   "source": [
    "#### Question 5 : Nombre d'amis des personnes les plus populaires\n",
    "\n",
    "- A partir d'un dictionnaire `dico_reseau` modélisant les interactions dans un réseau d'amis, écrire une fonction `nb_amis_plus_pop (dico_reseau)` qui retourne le nombre d'amis des personnes les plus populaires du réseau."
   ]
  },
  {
   "cell_type": "code",
   "execution_count": 50,
   "metadata": {},
   "outputs": [
    {
     "name": "stdout",
     "output_type": "stream",
     "text": [
      "11\n",
      "test de la fonction taille_reseau : Ok\n"
     ]
    }
   ],
   "source": [
    "def nb_amis_plus_pop(dico_reseau):\n",
    "    '''\n",
    "    La fonction nb_amis_plus_pop prends en paramètre un dictionnaire modélisant les interactions dans un \n",
    "    réseau d'amis et va nous retourner le nombre d'amis de la personne la plus populaire du réseau en question.\n",
    "    '''\n",
    "    tab=[]\n",
    "    i=0\n",
    "    clefs=list(dico_reseau)      \n",
    "    while i < len(clefs):            #Ici on parcours une premieres fois le tableau des clefs\n",
    "        a=len(dico_reseau[clefs[i]])     #On stock dans une variable le nombre d'indice qu'il y a dans la cléfs\n",
    "        tab.append(a)                #On l'ajoute dans un tableau\n",
    "        i+=1\n",
    "    maxi=max(tab)                #on stock la valeur maximum de notre tableau grace a la fonction max\n",
    "    return maxi\n",
    "\n",
    "def test_nb_amis_plus_pop():\n",
    "    assert nb_amis_plus_pop(dico_reseau(p_amis)) == 5\n",
    "    assert nb_amis_plus_pop(dico_reseau(amis)) == 2\n",
    "    assert nb_amis_plus_pop(dico_reseau(q_amis)) == 2\n",
    "    assert nb_amis_plus_pop(dico_reseau(dico)) == 11\n",
    "    print(\"test de la fonction taille_reseau : Ok\")\n",
    "    \n",
    "    \n",
    "    \n",
    "print(nb_amis_plus_pop(dico_reseau(dico)))\n",
    "\n",
    "test_nb_amis_plus_pop()\n",
    "\n"
   ]
  },
  {
   "cell_type": "markdown",
   "metadata": {
    "deletable": false,
    "editable": false,
    "run_control": {
     "frozen": true
    }
   },
   "source": [
    "#### Question 6 : Personnes les plus populaires\n",
    "\n",
    "- A partir d'un dictionnaire `dico_reseau` modélisant les interactions dans un réseau d'amis, écrire une fonction `les_plus_pop (dico_reseau)` qui retourne un tableau contenant les prénoms de toutes les personnes les plus populaires du réseau."
   ]
  },
  {
   "cell_type": "code",
   "execution_count": 60,
   "metadata": {},
   "outputs": [
    {
     "name": "stdout",
     "output_type": "stream",
     "text": [
      "test de la fonction taille_reseau : Ok\n"
     ]
    },
    {
     "data": {
      "text/plain": [
       "['Mady', 'Rufino', 'Vittorio']"
      ]
     },
     "execution_count": 60,
     "metadata": {},
     "output_type": "execute_result"
    }
   ],
   "source": [
    "def les_plus_pop(dico_reseau):\n",
    "    '''\n",
    "    la fonction les_plus_pop prends en paramètre un dictionnaire modélisant les interactions dans un réseau d'amis\n",
    "    et il va nous retourner les prénoms de toutes les personnes les plus populaires du réseau\n",
    "    '''\n",
    "    tab=[]\n",
    "    tab2=[]\n",
    "    i=0\n",
    "    clefs=list(dico_reseau)\n",
    "    while i < len(clefs):            # il rajoute toute les valeur dans tab \n",
    "        a=len(dico_reseau[clefs[i]])\n",
    "        tab.append(a)\n",
    "        i+=1\n",
    "    \n",
    "    i=0\n",
    "    while i<len(tab):                # Il parcours le tableau pour récupéré les clefs avec le plus de valeur\n",
    "        if tab[i]==max(tab):          # Il compare chaque clefs si leur valeur (qui est un tableau) est égale a la valeur max\n",
    "            tab2.append(clefs[i])      # Si la condition est valide il rajoute la clefs dans tab2\n",
    "        i+=1\n",
    "    return tab2\n",
    "\n",
    "\n",
    "def test_les_plus_pop():\n",
    "    assert les_plus_pop(dico_reseau(amis)) == ['Alice', 'Bob']\n",
    "    assert les_plus_pop(dico_reseau(p_amis))== ['Joel']\n",
    "    assert les_plus_pop(dico_reseau(q_amis)) == ['Nassim', 'Issa']\n",
    "    print(\"test de la fonction taille_reseau : Ok\")\n",
    "    \n",
    "    \n",
    "test_les_plus_pop()   \n",
    "les_plus_pop(dico_reseau(dico))"
   ]
  }
 ],
 "metadata": {
  "celltoolbar": "Format de la Cellule Texte Brut",
  "kernelspec": {
   "display_name": "Python 3 (ipykernel)",
   "language": "python",
   "name": "python3"
  },
  "language_info": {
   "codemirror_mode": {
    "name": "ipython",
    "version": 3
   },
   "file_extension": ".py",
   "mimetype": "text/x-python",
   "name": "python",
   "nbconvert_exporter": "python",
   "pygments_lexer": "ipython3",
   "version": "3.9.7"
  },
  "latex_envs": {
   "LaTeX_envs_menu_present": true,
   "autoclose": false,
   "autocomplete": true,
   "bibliofile": "biblio.bib",
   "cite_by": "apalike",
   "current_citInitial": 1,
   "eqLabelWithNumbers": true,
   "eqNumInitial": 1,
   "hotkeys": {
    "equation": "Ctrl-E",
    "itemize": "Ctrl-I"
   },
   "labels_anchors": false,
   "latex_user_defs": false,
   "report_style_numbering": false,
   "user_envs_cfg": false
  }
 },
 "nbformat": 4,
 "nbformat_minor": 2
}
